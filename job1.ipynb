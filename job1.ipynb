{
  "nbformat": 4,
  "nbformat_minor": 0,
  "metadata": {
    "colab": {
      "name": "job1.ipynb",
      "provenance": [],
      "collapsed_sections": [],
      "authorship_tag": "ABX9TyNSL72YQkYcSRHF57tMa3Om",
      "include_colab_link": true
    },
    "kernelspec": {
      "name": "python3",
      "display_name": "Python 3"
    },
    "language_info": {
      "name": "python"
    }
  },
  "cells": [
    {
      "cell_type": "markdown",
      "metadata": {
        "id": "view-in-github",
        "colab_type": "text"
      },
      "source": [
        "<a href=\"https://colab.research.google.com/github/luminyanko/DSL/blob/main/job1.ipynb\" target=\"_parent\"><img src=\"https://colab.research.google.com/assets/colab-badge.svg\" alt=\"Open In Colab\"/></a>"
      ]
    },
    {
      "cell_type": "markdown",
      "metadata": {
        "id": "LfHNFxQOkHFv"
      },
      "source": [
        "# Job #1\n",
        "Savenko Valeriia"
      ]
    },
    {
      "cell_type": "markdown",
      "metadata": {
        "id": "2tx-Vd-Hkbcb"
      },
      "source": [
        "List of characters that are recognized as delimiters that are not considered tokens and a text variable that references a string\n",
        "or to a text file name."
      ]
    },
    {
      "cell_type": "code",
      "metadata": {
        "id": "wODBAcoakiIs"
      },
      "source": [
        "whitespaces = [' ', '\\t', '\\n']\n",
        "text = \"\\n Text   with\\t  several\\t \\n whitespaces \\n         \\n\\n\"\n",
        "# text = \"input.txt\""
      ],
      "execution_count": 22,
      "outputs": []
    },
    {
      "cell_type": "markdown",
      "metadata": {
        "id": "I-ZSJxNewIZx"
      },
      "source": [
        "Reading text from file if needed."
      ]
    },
    {
      "cell_type": "code",
      "metadata": {
        "id": "4hvtobbBwWUc"
      },
      "source": [
        "try:\n",
        "  file = open(text, 'r')\n",
        "  text = f.read()\n",
        "except FileNotFoundError:\n",
        "  text = \"\""
      ],
      "execution_count": 19,
      "outputs": []
    },
    {
      "cell_type": "markdown",
      "metadata": {
        "id": "wrB5cL7Im7uP"
      },
      "source": [
        "Implementation of a function which removes whitespaces from the text. <br>\n",
        "There is a character-by-character iteration over the <b>text</b>, each character is compared with characters in the <b>whitespaces</b> set. <br>\n",
        "Until the whitespece is encountered, the characters are written to the <b>cur_token</b> variable.\n",
        "If a whitespace is encountered, <b>cur_token</b> is added to the <b>token_list</b> and becomes empty.\n",
        "At the end of the iteration over the <b>text</b>, if <b>cur_token</b> is not empty, then it is also a token, so it should be added to the <b>token_list</b>.\n"
      ]
    },
    {
      "cell_type": "code",
      "metadata": {
        "id": "PXbYlcJgm7_h"
      },
      "source": [
        "def remove_whitespaces(whitespaces, text):\n",
        "    tokens_list = []\n",
        "    cur_token = []\n",
        "    \n",
        "    for char in text:\n",
        "      if char in whitespaces:\n",
        "        if cur_token:\n",
        "          token = ''.join(cur_token)\n",
        "          tokens_list.append(token)\n",
        "          cur_token = []\n",
        "      else:\n",
        "        cur_token.append(char)\n",
        "\n",
        "    if cur_token:\n",
        "      token = ''.join(cur_token)\n",
        "      tokens_list.append(token)    \n",
        "        \n",
        "    return tokens_list"
      ],
      "execution_count": 23,
      "outputs": []
    },
    {
      "cell_type": "markdown",
      "metadata": {
        "id": "Qq5ps_Efunu-"
      },
      "source": [
        "Function call:"
      ]
    },
    {
      "cell_type": "code",
      "metadata": {
        "colab": {
          "base_uri": "https://localhost:8080/"
        },
        "id": "CBTnTlRHu0B2",
        "outputId": "551dd080-3d58-4303-9d2e-0c2e54b3d0cd"
      },
      "source": [
        "print(remove_whitespaces(whitespaces, text))"
      ],
      "execution_count": 24,
      "outputs": [
        {
          "output_type": "stream",
          "name": "stdout",
          "text": [
            "['Text', 'with', 'several', 'whitespaces']\n"
          ]
        }
      ]
    }
  ]
}