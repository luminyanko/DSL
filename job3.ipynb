{
  "nbformat": 4,
  "nbformat_minor": 0,
  "metadata": {
    "colab": {
      "name": "job3.ipynb",
      "provenance": [],
      "authorship_tag": "ABX9TyMjYDpAtL7d0dT4hoc/eMSH",
      "include_colab_link": true
    },
    "kernelspec": {
      "name": "python3",
      "display_name": "Python 3"
    },
    "language_info": {
      "name": "python"
    }
  },
  "cells": [
    {
      "cell_type": "markdown",
      "metadata": {
        "id": "view-in-github",
        "colab_type": "text"
      },
      "source": [
        "<a href=\"https://colab.research.google.com/github/luminyanko/DSL/blob/main/job3.ipynb\" target=\"_parent\"><img src=\"https://colab.research.google.com/assets/colab-badge.svg\" alt=\"Open In Colab\"/></a>"
      ]
    },
    {
      "cell_type": "markdown",
      "metadata": {
        "id": "ulHed8IQ4S3l"
      },
      "source": [
        "# Job #3\n",
        "Savenko Valeriia"
      ]
    },
    {
      "cell_type": "markdown",
      "metadata": {
        "id": "CEOSDf3x4YFz"
      },
      "source": [
        "Let's say that context free grammar is such this:\n",
        "\n",
        "```\n",
        "{'toks': set(token), 'vars': dict(var: definition), 'hvar': var}\n",
        "token : (class, value)\n",
        "class : int\n",
        "value : str\n",
        "var : str                 # non-terminal name\n",
        "definition : list(rule)\n",
        "rule : list(var | token)  # right part of the rule\n",
        "```\n",
        "\n"
      ]
    },
    {
      "cell_type": "markdown",
      "metadata": {
        "id": "3j0xuDsC-1Sx"
      },
      "source": [
        "Функція FIRST повертає набір терміналів, які можна вирахувати з нетерміналу, який ми їй передали. Використовуючи той факт, що ми вилучили ліву рекурсію з нашої граматики, ми можемо легко реалізувати цю функцію повторно, оскільки є докази того, що ми не застрягнемо в нескінченному циклі. Отже, якщо ми отримали нетермінал A, ми починаємо перебирати правила, в яких ліва частина має тільки A, і якщо перший символ правила є терміналом h - ми просто додаємо його до набору."
      ]
    },
    {
      "cell_type": "code",
      "metadata": {
        "id": "yc8lo37t32Qf"
      },
      "source": [
        "def FIRST(grammar, symbol):\n",
        "  tokens = grammar['toks']\n",
        "  variables = grammar['vars']\n",
        "  result = set()\n",
        "  for rule in variables[symbol]:\n",
        "    if rule[0] in tokens:\n",
        "      result.add(rule[0])\n",
        "    else:\n",
        "      result |= FIRST(grammar, rule[0])\n",
        "  return result"
      ],
      "execution_count": 18,
      "outputs": []
    },
    {
      "cell_type": "markdown",
      "metadata": {
        "id": "LgDkKyq0ABFO"
      },
      "source": [
        "#FOLLOW \n",
        "FOLLOW(X) — це набір терміналів, які можуть з’являтися відразу після X у певному виведенні. Щоб обчислити FOLLOW(X), треба знайти усі вихідні термінали, включаючи X, у правій частині, і отримати наступні символи в цих вихідніх терміналах. Якщо після X немає символів у деякому виведенні A -> pX, то FOLLOW(X) те саме, що FOLLOW(A)\n"
      ]
    },
    {
      "cell_type": "code",
      "metadata": {
        "id": "TCWeMIt1AgUP"
      },
      "source": [
        "def FOLLOW(grammar, symbol):\n",
        "  tokens = grammar['toks']\n",
        "  variables = grammar['vars']\n",
        "  useful_vars = []\n",
        "  for nt, val in variables.items():\n",
        "    for rule in val:\n",
        "      if symbol in rule:\n",
        "        useful_vars.append((nt, rule))\n",
        "  \n",
        "  result = set()\n",
        "  for p in useful_vars:\n",
        "    lhs, rhs = p\n",
        "    idx = rhs.index(symbol)\n",
        "    if idx + 1 < len(rhs):\n",
        "      next_symbol = rhs[idx + 1]\n",
        "      if next_symbol in tokens:\n",
        "        result.add(next_symbol)\n",
        "      else:\n",
        "        result |= FIRST(grammar, next_symbol)\n",
        "    else:\n",
        "      if lhs != symbol:\n",
        "        result |= FOLLOW(grammar, lhs)\n",
        "  return result"
      ],
      "execution_count": 21,
      "outputs": []
    },
    {
      "cell_type": "markdown",
      "metadata": {
        "id": "CLwv6QhzBkBd"
      },
      "source": [
        "Example"
      ]
    },
    {
      "cell_type": "code",
      "metadata": {
        "id": "Gowss01qBkT4"
      },
      "source": [
        "grammar = {\n",
        "    'toks': {(0, 'a'), (1, 'b'), (2, 'c'), (3, 'd'), (4, 'f'), (5, 'g'), (6, 'h'), (7, 'e')},\n",
        "    'vars': {\n",
        "        'A': [[(0, 'a') ,'B', 'C', (6, 'h')]],\n",
        "        'B': [[(2, 'c'), 'C']], \n",
        "        'C': [[(1, 'b'), 'D']],\n",
        "        'D': [['C', 'F']],\n",
        "        'E': [[(5, 'g')], [(7, 'e')]],\n",
        "        'F': [[(4, 'f')], [(6, 'h')]],\n",
        "    },\n",
        "    'hvar': 'A',\n",
        "}"
      ],
      "execution_count": 31,
      "outputs": []
    },
    {
      "cell_type": "code",
      "metadata": {
        "colab": {
          "base_uri": "https://localhost:8080/"
        },
        "id": "ciH_jG17BqVn",
        "outputId": "8c1bfb0e-2783-4524-f78b-051ab0c70fab"
      },
      "source": [
        "print(FIRST(grammar, 'C'))\n",
        "print(FOLLOW(grammar, 'C'))\n"
      ],
      "execution_count": 32,
      "outputs": [
        {
          "output_type": "stream",
          "name": "stdout",
          "text": [
            "{(1, 'b')}\n",
            "{(4, 'f'), (1, 'b'), (6, 'h')}\n"
          ]
        }
      ]
    }
  ]
}